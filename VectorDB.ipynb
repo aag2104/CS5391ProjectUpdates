{
 "cells": [
  {
   "cell_type": "markdown",
   "id": "8e90c57a-e143-4440-82b7-a19203e323e8",
   "metadata": {},
   "source": [
    "In this file, I attempt to create a vector database and query the data to find the most similar sentences."
   ]
  },
  {
   "cell_type": "markdown",
   "id": "5c0af7c9-5bbd-4f05-bec9-a9ce06b7373a",
   "metadata": {},
   "source": [
    "Step 1: Convert Our Text into Embeddings"
   ]
  },
  {
   "cell_type": "code",
   "execution_count": null,
   "id": "e410a7e4-bfc0-4e67-9484-4f43f51058b8",
   "metadata": {},
   "outputs": [],
   "source": [
    "pip install faiss-cpu sentence-transformers"
   ]
  },
  {
   "cell_type": "code",
   "execution_count": null,
   "id": "a8c11885-d036-4319-bb31-e2ad70c2f54d",
   "metadata": {},
   "outputs": [],
   "source": [
    "from sentence_transformers import SentenceTransformer"
   ]
  },
  {
   "cell_type": "code",
   "execution_count": null,
   "id": "a40f6759-3ba2-4252-8cbb-8c0c873b3cda",
   "metadata": {},
   "outputs": [],
   "source": [
    "model = SentenceTransformer('all-MiniLM-L6-v2')"
   ]
  },
  {
   "cell_type": "code",
   "execution_count": null,
   "id": "dec83e05-99d5-4f38-9cca-ebe2de03355c",
   "metadata": {},
   "outputs": [],
   "source": [
    "texts = [\"The quick brown fox jumps over the lazy dog\",\n",
    "           \"To be or not to be, that is the question\",\n",
    "           \"All human beings are born free and equal in dignity and rights\"]"
   ]
  },
  {
   "cell_type": "code",
   "execution_count": null,
   "id": "49456308-8bb5-40c1-aea2-c54ea914bfef",
   "metadata": {},
   "outputs": [],
   "source": [
    "embeddings = model.encode(texts)"
   ]
  },
  {
   "cell_type": "markdown",
   "id": "df4f2b97-a57f-485a-b13d-d08e04edd75d",
   "metadata": {},
   "source": [
    "Step 2: Create a Faiss Vector Index"
   ]
  },
  {
   "cell_type": "code",
   "execution_count": null,
   "id": "e171d7f4-2a82-421d-80bb-554e36f6db4e",
   "metadata": {},
   "outputs": [],
   "source": [
    "import faiss"
   ]
  },
  {
   "cell_type": "code",
   "execution_count": null,
   "id": "3a608966-411a-4d5e-8956-a6364b1d3974",
   "metadata": {},
   "outputs": [],
   "source": [
    "dimension = embeddings.shape[1]"
   ]
  },
  {
   "cell_type": "code",
   "execution_count": null,
   "id": "3615c412-f8a8-4c12-abcb-b4bd2bca60bf",
   "metadata": {},
   "outputs": [],
   "source": [
    "index = faiss.IndexFlatL2(dimension)"
   ]
  },
  {
   "cell_type": "code",
   "execution_count": null,
   "id": "c53c428a-e8e1-4db4-bb2d-785214b420b3",
   "metadata": {},
   "outputs": [],
   "source": [
    "index.add(embeddings)"
   ]
  },
  {
   "cell_type": "markdown",
   "id": "de246465-1db6-44f9-8d2c-52e3891c31b6",
   "metadata": {},
   "source": [
    "Step 3: Query the Index"
   ]
  },
  {
   "cell_type": "code",
   "execution_count": null,
   "id": "415f8410-601c-4c0e-b2ea-b3e54944d491",
   "metadata": {},
   "outputs": [],
   "source": [
    "query_text = \"Freedom and equality are fundamental human rights.\""
   ]
  },
  {
   "cell_type": "code",
   "execution_count": null,
   "id": "d163c9a6-7ef3-4b7a-a1de-07fe5905860d",
   "metadata": {},
   "outputs": [],
   "source": [
    "query_embedding = model.encode([query_text])"
   ]
  },
  {
   "cell_type": "code",
   "execution_count": null,
   "id": "04a0fbde-4b01-491e-a612-e5a0f5400f18",
   "metadata": {},
   "outputs": [],
   "source": [
    "k = 2  # Number of nearest neighbors\n",
    "distances, indices = index.search(query_embedding, k)"
   ]
  },
  {
   "cell_type": "code",
   "execution_count": null,
   "id": "8d351e52-e533-4111-b23e-598a207370f9",
   "metadata": {},
   "outputs": [],
   "source": [
    "print(\"Nearest sentences:\")\n",
    "for idx, distance in zip(indices[0], distances[0]):\n",
    "    print(f\"Sentence: '{texts[idx]}', Distance: {distance}\")"
   ]
  }
 ],
 "metadata": {
  "kernelspec": {
   "display_name": "Python 3 (ipykernel)",
   "language": "python",
   "name": "python3"
  },
  "language_info": {
   "codemirror_mode": {
    "name": "ipython",
    "version": 3
   },
   "file_extension": ".py",
   "mimetype": "text/x-python",
   "name": "python",
   "nbconvert_exporter": "python",
   "pygments_lexer": "ipython3",
   "version": "3.11.7"
  }
 },
 "nbformat": 4,
 "nbformat_minor": 5
}
