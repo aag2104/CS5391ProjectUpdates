{
 "cells": [
  {
   "cell_type": "code",
   "execution_count": 2,
   "id": "367e8627-9b7f-413c-a140-fc36721b7f5b",
   "metadata": {},
   "outputs": [
    {
     "name": "stdout",
     "output_type": "stream",
     "text": [
      "Collecting openai==0.28\n",
      "  Downloading openai-0.28.0-py3-none-any.whl.metadata (13 kB)\n",
      "Requirement already satisfied: requests>=2.20 in /Users/alexandrageer/ragenv/lib/python3.12/site-packages (from openai==0.28) (2.32.3)\n",
      "Requirement already satisfied: tqdm in /Users/alexandrageer/ragenv/lib/python3.12/site-packages (from openai==0.28) (4.66.4)\n",
      "Collecting aiohttp (from openai==0.28)\n",
      "  Using cached aiohttp-3.9.5-cp312-cp312-macosx_11_0_arm64.whl.metadata (7.5 kB)\n",
      "Requirement already satisfied: charset-normalizer<4,>=2 in /Users/alexandrageer/ragenv/lib/python3.12/site-packages (from requests>=2.20->openai==0.28) (3.3.2)\n",
      "Requirement already satisfied: idna<4,>=2.5 in /Users/alexandrageer/ragenv/lib/python3.12/site-packages (from requests>=2.20->openai==0.28) (3.7)\n",
      "Requirement already satisfied: urllib3<3,>=1.21.1 in /Users/alexandrageer/ragenv/lib/python3.12/site-packages (from requests>=2.20->openai==0.28) (2.2.2)\n",
      "Requirement already satisfied: certifi>=2017.4.17 in /Users/alexandrageer/ragenv/lib/python3.12/site-packages (from requests>=2.20->openai==0.28) (2024.6.2)\n",
      "Collecting aiosignal>=1.1.2 (from aiohttp->openai==0.28)\n",
      "  Using cached aiosignal-1.3.1-py3-none-any.whl.metadata (4.0 kB)\n",
      "Requirement already satisfied: attrs>=17.3.0 in /Users/alexandrageer/ragenv/lib/python3.12/site-packages (from aiohttp->openai==0.28) (23.2.0)\n",
      "Collecting frozenlist>=1.1.1 (from aiohttp->openai==0.28)\n",
      "  Using cached frozenlist-1.4.1-cp312-cp312-macosx_11_0_arm64.whl.metadata (12 kB)\n",
      "Collecting multidict<7.0,>=4.5 (from aiohttp->openai==0.28)\n",
      "  Using cached multidict-6.0.5-cp312-cp312-macosx_11_0_arm64.whl.metadata (4.2 kB)\n",
      "Collecting yarl<2.0,>=1.0 (from aiohttp->openai==0.28)\n",
      "  Using cached yarl-1.9.4-cp312-cp312-macosx_11_0_arm64.whl.metadata (31 kB)\n",
      "Downloading openai-0.28.0-py3-none-any.whl (76 kB)\n",
      "\u001b[2K   \u001b[90m━━━━━━━━━━━━━━━━━━━━━━━━━━━━━━━━━━━━━━━━\u001b[0m \u001b[32m76.5/76.5 kB\u001b[0m \u001b[31m2.2 MB/s\u001b[0m eta \u001b[36m0:00:00\u001b[0m\n",
      "\u001b[?25hUsing cached aiohttp-3.9.5-cp312-cp312-macosx_11_0_arm64.whl (392 kB)\n",
      "Using cached aiosignal-1.3.1-py3-none-any.whl (7.6 kB)\n",
      "Using cached frozenlist-1.4.1-cp312-cp312-macosx_11_0_arm64.whl (51 kB)\n",
      "Using cached multidict-6.0.5-cp312-cp312-macosx_11_0_arm64.whl (29 kB)\n",
      "Using cached yarl-1.9.4-cp312-cp312-macosx_11_0_arm64.whl (79 kB)\n",
      "Installing collected packages: multidict, frozenlist, yarl, aiosignal, aiohttp, openai\n",
      "  Attempting uninstall: openai\n",
      "    Found existing installation: openai 1.35.8\n",
      "    Uninstalling openai-1.35.8:\n",
      "      Successfully uninstalled openai-1.35.8\n",
      "Successfully installed aiohttp-3.9.5 aiosignal-1.3.1 frozenlist-1.4.1 multidict-6.0.5 openai-0.28.0 yarl-1.9.4\n",
      "Note: you may need to restart the kernel to use updated packages.\n"
     ]
    }
   ],
   "source": [
    "pip install openai==0.28"
   ]
  },
  {
   "cell_type": "code",
   "execution_count": 3,
   "id": "6bb34661-cd10-41e8-a4d1-ff3140ccae45",
   "metadata": {},
   "outputs": [
    {
     "name": "stderr",
     "output_type": "stream",
     "text": [
      "/Users/alexandrageer/ragenv/lib/python3.12/site-packages/sentence_transformers/cross_encoder/CrossEncoder.py:11: TqdmExperimentalWarning: Using `tqdm.autonotebook.tqdm` in notebook mode. Use `tqdm.tqdm` instead to force console mode (e.g. in jupyter console)\n",
      "  from tqdm.autonotebook import tqdm, trange\n"
     ]
    }
   ],
   "source": [
    "import os\n",
    "from sentence_transformers import SentenceTransformer\n",
    "import faiss\n",
    "import numpy as np\n",
    "import openai\n",
    "import fitz  # PyMuPDF\n",
    "from docx import Document\n",
    "import ipywidgets as widgets\n",
    "from IPython.display import display"
   ]
  },
  {
   "cell_type": "code",
   "execution_count": 4,
   "id": "d63edd15-2668-4492-8f55-d2f089d0679e",
   "metadata": {},
   "outputs": [],
   "source": [
    "# Load pre-trained models\n",
    "model = SentenceTransformer('all-MiniLM-L6-v2')\n",
    "\n",
    "openai.api_key = 'sk-proj-fXh075SXDYfYCaKHREjrT3BlbkFJxJPr8Gtq2A93qjSomnlS'"
   ]
  },
  {
   "cell_type": "code",
   "execution_count": 5,
   "id": "89d6c80e-a51c-455d-84e7-3b07d4835127",
   "metadata": {},
   "outputs": [],
   "source": [
    "# Directory of files to be indexed\n",
    "directory_path = '/Users/alexandrageer/Desktop/rag txt files'  # Update this to your relative local path"
   ]
  },
  {
   "cell_type": "code",
   "execution_count": 6,
   "id": "5a47641a-0d9f-4e7a-8678-7935ec4ad75e",
   "metadata": {},
   "outputs": [],
   "source": [
    "# Function to read text from different file types\n",
    "def read_file(file_path):\n",
    "    if file_path.endswith('.txt'):\n",
    "        with open(file_path, 'r', encoding='utf-8') as file:\n",
    "            return file.read()\n",
    "    elif file_path.endswith('.pdf'):\n",
    "        text = \"\"\n",
    "        with fitz.open(file_path) as doc:\n",
    "            for page in doc:\n",
    "                text += page.get_text()\n",
    "        return text\n",
    "    elif file_path.endswith('.docx'):\n",
    "        doc = Document(file_path)\n",
    "        return \"\\n.join([para.text for para in doc.paragraphs])\"\n",
    "    else:\n",
    "        return \"\""
   ]
  },
  {
   "cell_type": "code",
   "execution_count": 7,
   "id": "c3466db5-9a67-4ec2-9c0c-f09df2728685",
   "metadata": {},
   "outputs": [],
   "source": [
    "# Read and process files\n",
    "documents = []\n",
    "file_paths = []\n",
    "for file_name in os.listdir(directory_path):\n",
    "    file_path = os.path.join(directory_path, file_name)\n",
    "    if os.path.isfile(file_path):\n",
    "        content = read_file(file_path)\n",
    "        if content:  # Only add if content is not empty\n",
    "            documents.append(content)\n",
    "            file_paths.append(file_path)"
   ]
  },
  {
   "cell_type": "code",
   "execution_count": 8,
   "id": "356bd228-fab2-4b27-9ccd-eda825ae32b1",
   "metadata": {},
   "outputs": [],
   "source": [
    "# Generate embeddings\n",
    "embeddings = model.encode(documents, convert_to_tensor=True)"
   ]
  },
  {
   "cell_type": "code",
   "execution_count": 9,
   "id": "eef19229-2e94-4f40-8090-d4207bb4ab2d",
   "metadata": {},
   "outputs": [],
   "source": [
    "# Convert embeddings to numpy array\n",
    "embeddings = embeddings.cpu().detach().numpy()"
   ]
  },
  {
   "cell_type": "code",
   "execution_count": 10,
   "id": "de3c5026-b707-4f0f-89d6-6ed2d944cdb0",
   "metadata": {},
   "outputs": [],
   "source": [
    "# Indexing with FAISS\n",
    "index = faiss.IndexFlatL2(embeddings.shape[1])\n",
    "index.add(embeddings)"
   ]
  },
  {
   "cell_type": "code",
   "execution_count": 11,
   "id": "e7e3e5ad-5e32-4e21-a44a-60da282a3df9",
   "metadata": {},
   "outputs": [],
   "source": [
    "# Query system\n",
    "def query_system(query, top_k=5):\n",
    "    query_embedding = model.encode([query], convert_to_tensor=True).cpu().detach().numpy()\n",
    "    distances, indices = index.search(query_embedding, top_k)\n",
    "    results = []\n",
    "    for idx in indices[0]:\n",
    "        results.append(file_paths[idx])\n",
    "    return results"
   ]
  },
  {
   "cell_type": "code",
   "execution_count": 12,
   "id": "c50184d1-3602-4ded-b4d4-508d6d37780f",
   "metadata": {},
   "outputs": [],
   "source": [
    "# Generate answer using retrieved documents\n",
    "def generate_answer(query, top_k=5):\n",
    "    relevant_docs = query_system(query, top_k)\n",
    "    combined_docs = ''\n",
    "    for doc in relevant_docs:\n",
    "        combined_docs += read_file(doc) + '\\n'\n",
    "    prompt = f\"Context: {combined_docs}\\n\\nQuestion: {query}\\n\\nAnswer:\"\n",
    "\n",
    "    response = openai.ChatCompletion.create(\n",
    "        model=\"gpt-3.5-turbo\",\n",
    "        messages=[\n",
    "            {\"role\": \"system\", \"content\": \"You are a helpful assistant.\"},\n",
    "            {\"role\": \"user\", \"content\": prompt}\n",
    "        ],\n",
    "        max_tokens=200,\n",
    "        n=1,\n",
    "        stop=None,\n",
    "        temperature=0.7,\n",
    "    )\n",
    "    \n",
    "    answer = response['choices'][0]['message']['content'].strip()\n",
    "    return answer"
   ]
  },
  {
   "cell_type": "code",
   "execution_count": 13,
   "id": "aca2e977-1151-4c97-9fc4-3e9a52ec1569",
   "metadata": {},
   "outputs": [],
   "source": [
    "# Create UI components\n",
    "query_input = widgets.Text(\n",
    "    value='',\n",
    "    placeholder='Type your query here',\n",
    "    description='Query:',\n",
    "    disabled=False\n",
    ")"
   ]
  },
  {
   "cell_type": "code",
   "execution_count": 14,
   "id": "c06d0866-db0c-4496-8607-9d4f0767d85d",
   "metadata": {},
   "outputs": [],
   "source": [
    "top_k_slider = widgets.IntSlider(\n",
    "    value=5,\n",
    "    min=1,\n",
    "    max=10,\n",
    "    step=1,\n",
    "    description='Top K:',\n",
    "    continuous_update=False\n",
    ")"
   ]
  },
  {
   "cell_type": "code",
   "execution_count": 15,
   "id": "16ddf108-01b2-4dc6-8075-bd0146350c10",
   "metadata": {},
   "outputs": [],
   "source": [
    "search_button = widgets.Button(\n",
    "    description='Search',\n",
    "    disabled=False,\n",
    "    button_style='',\n",
    "    tooltip='Click to search',\n",
    "    icon='search'\n",
    ")"
   ]
  },
  {
   "cell_type": "code",
   "execution_count": 16,
   "id": "32987925-7f76-4c7b-b8d1-e3ad790295c4",
   "metadata": {},
   "outputs": [],
   "source": [
    "output_area = widgets.Output()\n",
    "\n",
    "def on_search_button_clicked(b):\n",
    "    with output_area:\n",
    "        output_area.clear_output()\n",
    "        query = query_input.value\n",
    "        top_k = top_k_slider.value\n",
    "        print(f\"Query: {query}\")\n",
    "        print(\"Searching...\")\n",
    "        results = query_system(query, top_k)\n",
    "        for result in results:\n",
    "            print(result)\n",
    "        \n",
    "        print(\"Generating answer...\")\n",
    "        answer = generate_answer(query, top_k)\n",
    "        print(\"Generated Answer:\")\n",
    "        print(answer)\n",
    "\n",
    "search_button.on_click(on_search_button_clicked)"
   ]
  },
  {
   "cell_type": "code",
   "execution_count": 17,
   "id": "016a3538-be5d-43ab-b821-3a7642e21389",
   "metadata": {
    "scrolled": true
   },
   "outputs": [
    {
     "data": {
      "application/vnd.jupyter.widget-view+json": {
       "model_id": "6155d7ce10904fd6b0f8805cd397f1b2",
       "version_major": 2,
       "version_minor": 0
      },
      "text/plain": [
       "Text(value='', description='Query:', placeholder='Type your query here')"
      ]
     },
     "metadata": {},
     "output_type": "display_data"
    },
    {
     "data": {
      "application/vnd.jupyter.widget-view+json": {
       "model_id": "a04b06b3ffcf472f92e7aba19e415b5a",
       "version_major": 2,
       "version_minor": 0
      },
      "text/plain": [
       "IntSlider(value=5, continuous_update=False, description='Top K:', max=10, min=1)"
      ]
     },
     "metadata": {},
     "output_type": "display_data"
    },
    {
     "data": {
      "application/vnd.jupyter.widget-view+json": {
       "model_id": "49a3c987d005486bb62dbe1047f554b2",
       "version_major": 2,
       "version_minor": 0
      },
      "text/plain": [
       "Button(description='Search', icon='search', style=ButtonStyle(), tooltip='Click to search')"
      ]
     },
     "metadata": {},
     "output_type": "display_data"
    },
    {
     "data": {
      "application/vnd.jupyter.widget-view+json": {
       "model_id": "7c2494d789f047eb95262a4b92720cdd",
       "version_major": 2,
       "version_minor": 0
      },
      "text/plain": [
       "Output()"
      ]
     },
     "metadata": {},
     "output_type": "display_data"
    }
   ],
   "source": [
    "# Display UI components\n",
    "display(query_input, top_k_slider, search_button, output_area)"
   ]
  }
 ],
 "metadata": {
  "kernelspec": {
   "display_name": "Python 3 (ipykernel)",
   "language": "python",
   "name": "python3"
  },
  "language_info": {
   "codemirror_mode": {
    "name": "ipython",
    "version": 3
   },
   "file_extension": ".py",
   "mimetype": "text/x-python",
   "name": "python",
   "nbconvert_exporter": "python",
   "pygments_lexer": "ipython3",
   "version": "3.12.4"
  }
 },
 "nbformat": 4,
 "nbformat_minor": 5
}
